{
 "cells": [
  {
   "cell_type": "code",
   "execution_count": 1,
   "id": "5535c3d3",
   "metadata": {},
   "outputs": [],
   "source": [
    "import pandas as pd\n",
    "from datetime import datetime\n",
    "import requests\n",
    "import numpy as np\n",
    "from polygon.rest import RESTClient\n",
    "from tqdm import tqdm\n",
    "import warnings\n",
    "import pytz\n",
    "from concurrent.futures import ThreadPoolExecutor, as_completed\n",
    "import concurrent.futures\n",
    "import json\n",
    "\n",
    "warnings.simplefilter(action='ignore', category=FutureWarning)\n",
    "\n",
    "api_key = 'hFrBS7nzcaLTa8mplO1ejm44DI4EscDM'\n",
    "client = RESTClient(api_key)"
   ]
  },
  {
   "cell_type": "code",
   "execution_count": 2,
   "id": "6546ec45",
   "metadata": {},
   "outputs": [],
   "source": [
    "def unix(date_str,hour,minute):\n",
    "    date = datetime.strptime(date_str, '%Y-%m-%d').date()\n",
    "    #Define Eastern Standard Time (EST) timezone\n",
    "    est_tz = pytz.timezone('America/New_York')\n",
    "    #Create datetime object\n",
    "    est_time = datetime(date.year, date.month, date.day, hour, minute, 0)\n",
    "    #Localize the datetime object to EST timezone\n",
    "    est_dt = est_tz.localize(est_time, is_dst=None)\n",
    "    # Convert the datetime object to UTC timezone\n",
    "    utc_dt = est_dt.astimezone(pytz.utc)\n",
    "    # Calculate the Unix timestamp in milliseconds\n",
    "    unix_timestamp_ms = int((utc_dt - datetime(1970, 1, 1, tzinfo=pytz.utc)).total_seconds() * 1000)\n",
    "    return unix_timestamp_ms"
   ]
  },
  {
   "cell_type": "markdown",
   "id": "7fb500b3",
   "metadata": {},
   "source": [
    "<h1>Collect Trading Dates</h1>"
   ]
  },
  {
   "cell_type": "code",
   "execution_count": 3,
   "id": "834f11bd",
   "metadata": {},
   "outputs": [],
   "source": [
    "def get_day(ticker,date_str):\n",
    "    try:\n",
    "        #get dataframe\n",
    "        date = unix(date_str,9,30)\n",
    "        data = client.get_aggs(ticker,\n",
    "                                    multiplier=1,\n",
    "                                    timespan='day',\n",
    "                                    from_=date,\n",
    "                                    to=date) \n",
    "        df = pd.DataFrame(data)\n",
    "        end = df['open'].iloc[0]\n",
    "    except Exception as e:\n",
    "        #print(f\"An exception error occurred for {ticker} on {date}: {e}\")\n",
    "        end = np.nan\n",
    "    return end"
   ]
  },
  {
   "cell_type": "code",
   "execution_count": 4,
   "id": "a4c6c6ab",
   "metadata": {},
   "outputs": [
    {
     "name": "stderr",
     "output_type": "stream",
     "text": [
      "Validating Dates: 100%|██████████| 1131/1131 [01:34<00:00, 11.91it/s]"
     ]
    },
    {
     "name": "stdout",
     "output_type": "stream",
     "text": [
      "1131 1091\n"
     ]
    },
    {
     "name": "stderr",
     "output_type": "stream",
     "text": [
      "\n"
     ]
    }
   ],
   "source": [
    "#Get valid dates\n",
    "all_bdays = pd.date_range('2020-06-01', '2024-09-30', freq='B').strftime('%Y-%m-%d').tolist()\n",
    "dlist = []\n",
    "for date in tqdm(all_bdays, desc=\"Validating Dates\"):\n",
    "    a = get_day('AAPL',date)\n",
    "    if not np.isnan(a):\n",
    "        dlist.append(date)\n",
    "print(len(all_bdays),len(dlist))"
   ]
  },
  {
   "cell_type": "code",
   "execution_count": 6,
   "id": "4ac949b7",
   "metadata": {},
   "outputs": [
    {
     "name": "stdout",
     "output_type": "stream",
     "text": [
      "2021-01-04 - 2024-09-30\n"
     ]
    }
   ],
   "source": [
    "#Set date range, save list for later use\n",
    "print(f'{dlist[150]} - {dlist[-1]}')\n",
    "use_dates = dlist[150:]\n",
    "with open('dlist.json', 'w') as json_file:\n",
    "    json.dump(dlist, json_file, indent=4)"
   ]
  },
  {
   "cell_type": "markdown",
   "id": "321fccd5",
   "metadata": {},
   "source": [
    "<h1>Collect and Clean Tickers</h1>"
   ]
  },
  {
   "cell_type": "code",
   "execution_count": 8,
   "id": "ae4d4fc3",
   "metadata": {},
   "outputs": [],
   "source": [
    "def get_tickers(date):\n",
    "    tickers = []\n",
    "    types = []\n",
    "    for type in [\"CS\",\"OS\",\"ADRC\"]:\n",
    "        type_tickers = []\n",
    "        url = 'https://api.polygon.io/v3/reference/tickers'\n",
    "        params = {\"market\": \"stocks\",\"type\": type,\"date\": date,\"active\": \"true\",\"limit\": 1000,\"apiKey\": api_key}\n",
    "        while url:\n",
    "            response = requests.get(url, params=params)\n",
    "            data = response.json()\n",
    "            if 'results' in data:\n",
    "                type_tickers.extend([item['ticker'] for item in data['results']])\n",
    "            else:\n",
    "                print(f\"Error or no results for date {date}: {data}\")\n",
    "                break\n",
    "            url = data.get('next_url', None)\n",
    "        tickers.extend(type_tickers)\n",
    "        types.extend([type] * len(type_tickers))\n",
    "    return tickers,types,[date] * len(tickers)\n",
    "#get_tickers('2024-10-24')"
   ]
  },
  {
   "cell_type": "code",
   "execution_count": 10,
   "id": "e79453b2",
   "metadata": {},
   "outputs": [
    {
     "name": "stderr",
     "output_type": "stream",
     "text": [
      "Processing tickers: 100%|██████████| 941/941 [07:02<00:00,  2.23it/s]\n"
     ]
    }
   ],
   "source": [
    "all_tickers = []\n",
    "all_types = []\n",
    "ticker_dates = []\n",
    "with concurrent.futures.ThreadPoolExecutor() as executor:\n",
    "    results = list(tqdm(executor.map(get_tickers, use_dates), total=len(use_dates), desc=\"Processing tickers\"))\n",
    "    for tickers, types, dates in results:\n",
    "        all_tickers.extend(tickers)\n",
    "        all_types.extend(types)\n",
    "        ticker_dates.extend(dates)"
   ]
  },
  {
   "cell_type": "code",
   "execution_count": 11,
   "id": "54f10620",
   "metadata": {},
   "outputs": [
    {
     "data": {
      "text/html": [
       "<div>\n",
       "<style scoped>\n",
       "    .dataframe tbody tr th:only-of-type {\n",
       "        vertical-align: middle;\n",
       "    }\n",
       "\n",
       "    .dataframe tbody tr th {\n",
       "        vertical-align: top;\n",
       "    }\n",
       "\n",
       "    .dataframe thead th {\n",
       "        text-align: right;\n",
       "    }\n",
       "</style>\n",
       "<table border=\"1\" class=\"dataframe\">\n",
       "  <thead>\n",
       "    <tr style=\"text-align: right;\">\n",
       "      <th></th>\n",
       "      <th>ticker</th>\n",
       "      <th>min_date</th>\n",
       "      <th>max_date</th>\n",
       "      <th>type</th>\n",
       "    </tr>\n",
       "  </thead>\n",
       "  <tbody>\n",
       "    <tr>\n",
       "      <th>0</th>\n",
       "      <td>A</td>\n",
       "      <td>2021-01-04</td>\n",
       "      <td>2024-09-30</td>\n",
       "      <td>CS</td>\n",
       "    </tr>\n",
       "    <tr>\n",
       "      <th>1</th>\n",
       "      <td>AA</td>\n",
       "      <td>2021-01-04</td>\n",
       "      <td>2024-09-30</td>\n",
       "      <td>CS</td>\n",
       "    </tr>\n",
       "    <tr>\n",
       "      <th>2</th>\n",
       "      <td>AAC</td>\n",
       "      <td>2021-01-04</td>\n",
       "      <td>2024-05-17</td>\n",
       "      <td>CS</td>\n",
       "    </tr>\n",
       "    <tr>\n",
       "      <th>3</th>\n",
       "      <td>AACG</td>\n",
       "      <td>2021-01-04</td>\n",
       "      <td>2024-09-30</td>\n",
       "      <td>ADRC</td>\n",
       "    </tr>\n",
       "    <tr>\n",
       "      <th>4</th>\n",
       "      <td>AACI</td>\n",
       "      <td>2021-11-10</td>\n",
       "      <td>2024-08-15</td>\n",
       "      <td>CS</td>\n",
       "    </tr>\n",
       "    <tr>\n",
       "      <th>...</th>\n",
       "      <td>...</td>\n",
       "      <td>...</td>\n",
       "      <td>...</td>\n",
       "      <td>...</td>\n",
       "    </tr>\n",
       "    <tr>\n",
       "      <th>9384</th>\n",
       "      <td>ZX</td>\n",
       "      <td>2021-01-04</td>\n",
       "      <td>2024-05-17</td>\n",
       "      <td>CS</td>\n",
       "    </tr>\n",
       "    <tr>\n",
       "      <th>9385</th>\n",
       "      <td>ZY</td>\n",
       "      <td>2021-04-22</td>\n",
       "      <td>2022-10-19</td>\n",
       "      <td>CS</td>\n",
       "    </tr>\n",
       "    <tr>\n",
       "      <th>9386</th>\n",
       "      <td>ZYME</td>\n",
       "      <td>2021-01-04</td>\n",
       "      <td>2024-09-30</td>\n",
       "      <td>CS</td>\n",
       "    </tr>\n",
       "    <tr>\n",
       "      <th>9387</th>\n",
       "      <td>ZYNE</td>\n",
       "      <td>2021-01-04</td>\n",
       "      <td>2023-10-11</td>\n",
       "      <td>CS</td>\n",
       "    </tr>\n",
       "    <tr>\n",
       "      <th>9388</th>\n",
       "      <td>ZYXI</td>\n",
       "      <td>2021-01-04</td>\n",
       "      <td>2024-09-30</td>\n",
       "      <td>CS</td>\n",
       "    </tr>\n",
       "  </tbody>\n",
       "</table>\n",
       "<p>9389 rows × 4 columns</p>\n",
       "</div>"
      ],
      "text/plain": [
       "     ticker    min_date    max_date  type\n",
       "0         A  2021-01-04  2024-09-30    CS\n",
       "1        AA  2021-01-04  2024-09-30    CS\n",
       "2       AAC  2021-01-04  2024-05-17    CS\n",
       "3      AACG  2021-01-04  2024-09-30  ADRC\n",
       "4      AACI  2021-11-10  2024-08-15    CS\n",
       "...     ...         ...         ...   ...\n",
       "9384     ZX  2021-01-04  2024-05-17    CS\n",
       "9385     ZY  2021-04-22  2022-10-19    CS\n",
       "9386   ZYME  2021-01-04  2024-09-30    CS\n",
       "9387   ZYNE  2021-01-04  2023-10-11    CS\n",
       "9388   ZYXI  2021-01-04  2024-09-30    CS\n",
       "\n",
       "[9389 rows x 4 columns]"
      ]
     },
     "execution_count": 11,
     "metadata": {},
     "output_type": "execute_result"
    }
   ],
   "source": [
    "tickerdf = pd.DataFrame({'ticker':all_tickers,'type':all_types, 'date': ticker_dates})\n",
    "tickerdf['key'] = tickerdf['ticker'] + '_' + tickerdf['date']\n",
    "tickerdf = tickerdf.drop_duplicates(subset='key')\n",
    "ticker_filt = tickerdf.groupby('ticker').agg(min_date=('date', 'min'),max_date=('date', 'max'),type=('type', 'first')).reset_index()\n",
    "ticker_filt"
   ]
  },
  {
   "cell_type": "code",
   "execution_count": 13,
   "id": "75ed99c4",
   "metadata": {},
   "outputs": [],
   "source": [
    "def primary_listing(ticker,start_date,end_date):\n",
    "    drange = pd.bdate_range(start=start_date, end=end_date).strftime('%Y-%m-%d').tolist()\n",
    "    for date in drange:\n",
    "        response = requests.get(f'https://api.polygon.io/v3/reference/tickers/{ticker}?date={date}&apiKey={api_key}')\n",
    "        data = response.json()\n",
    "        if data['status'] == 'OK':\n",
    "            if (data['results']['market'] != 'otc') & ('ticker_root' in data['results']):\n",
    "                return data['results']['ticker_root']\n",
    "    return 'fail'\n",
    "#primary_listing('AAPL','2023-11-07','2024-11-07')"
   ]
  },
  {
   "cell_type": "code",
   "execution_count": 16,
   "id": "e2678b7c",
   "metadata": {},
   "outputs": [
    {
     "name": "stderr",
     "output_type": "stream",
     "text": [
      "Processing tickers: 100%|██████████| 9389/9389 [04:23<00:00, 35.65it/s]\n"
     ]
    }
   ],
   "source": [
    "with concurrent.futures.ThreadPoolExecutor() as executor:\n",
    "    roots = list(tqdm(executor.map(primary_listing, ticker_filt['ticker'], ticker_filt['min_date'], ticker_filt['max_date']), total=len(ticker_filt), desc=\"Processing tickers\"))\n",
    "ticker_filt['root'] = roots"
   ]
  },
  {
   "cell_type": "code",
   "execution_count": 17,
   "id": "7eacdf00",
   "metadata": {},
   "outputs": [
    {
     "data": {
      "text/html": [
       "<div>\n",
       "<style scoped>\n",
       "    .dataframe tbody tr th:only-of-type {\n",
       "        vertical-align: middle;\n",
       "    }\n",
       "\n",
       "    .dataframe tbody tr th {\n",
       "        vertical-align: top;\n",
       "    }\n",
       "\n",
       "    .dataframe thead th {\n",
       "        text-align: right;\n",
       "    }\n",
       "</style>\n",
       "<table border=\"1\" class=\"dataframe\">\n",
       "  <thead>\n",
       "    <tr style=\"text-align: right;\">\n",
       "      <th></th>\n",
       "      <th>ticker</th>\n",
       "      <th>min_date</th>\n",
       "      <th>max_date</th>\n",
       "      <th>type</th>\n",
       "      <th>root</th>\n",
       "    </tr>\n",
       "  </thead>\n",
       "  <tbody>\n",
       "    <tr>\n",
       "      <th>0</th>\n",
       "      <td>A</td>\n",
       "      <td>2021-01-04</td>\n",
       "      <td>2024-09-30</td>\n",
       "      <td>CS</td>\n",
       "      <td>A</td>\n",
       "    </tr>\n",
       "    <tr>\n",
       "      <th>1</th>\n",
       "      <td>AA</td>\n",
       "      <td>2021-01-04</td>\n",
       "      <td>2024-09-30</td>\n",
       "      <td>CS</td>\n",
       "      <td>AA</td>\n",
       "    </tr>\n",
       "    <tr>\n",
       "      <th>2</th>\n",
       "      <td>AAC</td>\n",
       "      <td>2021-01-04</td>\n",
       "      <td>2024-05-17</td>\n",
       "      <td>CS</td>\n",
       "      <td>AAC</td>\n",
       "    </tr>\n",
       "    <tr>\n",
       "      <th>3</th>\n",
       "      <td>AACG</td>\n",
       "      <td>2021-01-04</td>\n",
       "      <td>2024-09-30</td>\n",
       "      <td>ADRC</td>\n",
       "      <td>AACG</td>\n",
       "    </tr>\n",
       "    <tr>\n",
       "      <th>4</th>\n",
       "      <td>AACI</td>\n",
       "      <td>2021-11-10</td>\n",
       "      <td>2024-08-15</td>\n",
       "      <td>CS</td>\n",
       "      <td>AACI</td>\n",
       "    </tr>\n",
       "    <tr>\n",
       "      <th>...</th>\n",
       "      <td>...</td>\n",
       "      <td>...</td>\n",
       "      <td>...</td>\n",
       "      <td>...</td>\n",
       "      <td>...</td>\n",
       "    </tr>\n",
       "    <tr>\n",
       "      <th>9384</th>\n",
       "      <td>ZX</td>\n",
       "      <td>2021-01-04</td>\n",
       "      <td>2024-05-17</td>\n",
       "      <td>CS</td>\n",
       "      <td>ZX</td>\n",
       "    </tr>\n",
       "    <tr>\n",
       "      <th>9385</th>\n",
       "      <td>ZY</td>\n",
       "      <td>2021-04-22</td>\n",
       "      <td>2022-10-19</td>\n",
       "      <td>CS</td>\n",
       "      <td>ZY</td>\n",
       "    </tr>\n",
       "    <tr>\n",
       "      <th>9386</th>\n",
       "      <td>ZYME</td>\n",
       "      <td>2021-01-04</td>\n",
       "      <td>2024-09-30</td>\n",
       "      <td>CS</td>\n",
       "      <td>ZYME</td>\n",
       "    </tr>\n",
       "    <tr>\n",
       "      <th>9387</th>\n",
       "      <td>ZYNE</td>\n",
       "      <td>2021-01-04</td>\n",
       "      <td>2023-10-11</td>\n",
       "      <td>CS</td>\n",
       "      <td>ZYNE</td>\n",
       "    </tr>\n",
       "    <tr>\n",
       "      <th>9388</th>\n",
       "      <td>ZYXI</td>\n",
       "      <td>2021-01-04</td>\n",
       "      <td>2024-09-30</td>\n",
       "      <td>CS</td>\n",
       "      <td>ZYXI</td>\n",
       "    </tr>\n",
       "  </tbody>\n",
       "</table>\n",
       "<p>9054 rows × 5 columns</p>\n",
       "</div>"
      ],
      "text/plain": [
       "     ticker    min_date    max_date  type  root\n",
       "0         A  2021-01-04  2024-09-30    CS     A\n",
       "1        AA  2021-01-04  2024-09-30    CS    AA\n",
       "2       AAC  2021-01-04  2024-05-17    CS   AAC\n",
       "3      AACG  2021-01-04  2024-09-30  ADRC  AACG\n",
       "4      AACI  2021-11-10  2024-08-15    CS  AACI\n",
       "...     ...         ...         ...   ...   ...\n",
       "9384     ZX  2021-01-04  2024-05-17    CS    ZX\n",
       "9385     ZY  2021-04-22  2022-10-19    CS    ZY\n",
       "9386   ZYME  2021-01-04  2024-09-30    CS  ZYME\n",
       "9387   ZYNE  2021-01-04  2023-10-11    CS  ZYNE\n",
       "9388   ZYXI  2021-01-04  2024-09-30    CS  ZYXI\n",
       "\n",
       "[9054 rows x 5 columns]"
      ]
     },
     "execution_count": 17,
     "metadata": {},
     "output_type": "execute_result"
    }
   ],
   "source": [
    "finaldf = ticker_filt[ticker_filt['root'] == ticker_filt['ticker']]\n",
    "finaldf.to_csv('base.csv')\n",
    "finaldf"
   ]
  }
 ],
 "metadata": {
  "kernelspec": {
   "display_name": "base",
   "language": "python",
   "name": "python3"
  },
  "language_info": {
   "codemirror_mode": {
    "name": "ipython",
    "version": 3
   },
   "file_extension": ".py",
   "mimetype": "text/x-python",
   "name": "python",
   "nbconvert_exporter": "python",
   "pygments_lexer": "ipython3",
   "version": "3.11.4"
  }
 },
 "nbformat": 4,
 "nbformat_minor": 5
}
