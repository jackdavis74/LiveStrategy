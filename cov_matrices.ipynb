{
 "cells": [
  {
   "cell_type": "code",
   "execution_count": 2,
   "id": "5535c3d3",
   "metadata": {},
   "outputs": [],
   "source": [
    "import pandas as pd\n",
    "import numpy as np\n",
    "import matplotlib.pyplot as plt\n",
    "import seaborn as sns\n",
    "import warnings\n",
    "from polygon.rest import RESTClient\n",
    "import json\n",
    "import statsmodels.api as sm\n",
    "from datetime import datetime\n",
    "import pytz\n",
    "from tqdm import tqdm\n",
    "import concurrent.futures\n",
    "from scipy.optimize import minimize\n",
    "from cvxopt import solvers, matrix\n",
    "\n",
    "api_key = 'hFrBS7nzcaLTa8mplO1ejm44DI4EscDM'\n",
    "client = RESTClient(api_key)\n",
    "\n",
    "warnings.simplefilter(action='ignore', category=FutureWarning)\n",
    "pd.set_option('display.max_columns', None)\n",
    "warnings.simplefilter(\"ignore\", category=UserWarning)"
   ]
  },
  {
   "cell_type": "markdown",
   "id": "a2fd9377",
   "metadata": {},
   "source": [
    "<h1>Load Data</h1>"
   ]
  },
  {
   "cell_type": "code",
   "execution_count": 4,
   "id": "316a8bf1",
   "metadata": {},
   "outputs": [],
   "source": [
    "df = pd.read_csv('main.csv')"
   ]
  },
  {
   "cell_type": "code",
   "execution_count": 5,
   "id": "92c94ed6",
   "metadata": {},
   "outputs": [],
   "source": [
    "def est(unix_ms_timestamp):\n",
    "    # Convert Unix timestamp in milliseconds to seconds\n",
    "    unix_seconds = unix_ms_timestamp / 1000.0\n",
    "    # Create a datetime object from the Unix timestamp\n",
    "    utc_time = datetime.utcfromtimestamp(unix_seconds)\n",
    "    # Define the UTC and EST timezones\n",
    "    utc_zone = pytz.utc\n",
    "    est_zone = pytz.timezone('US/Eastern')\n",
    "    # Localize the UTC datetime object to UTC timezone\n",
    "    utc_time = utc_zone.localize(utc_time)\n",
    "    # Convert the UTC time to EST\n",
    "    est_time = utc_time.astimezone(est_zone)\n",
    "    est_time = est_time.replace(tzinfo=None)\n",
    "    return est_time.strftime('%Y-%m-%d')"
   ]
  },
  {
   "cell_type": "code",
   "execution_count": 72,
   "id": "668372ba",
   "metadata": {},
   "outputs": [],
   "source": [
    "class data_collector():\n",
    "    def __init__(self, index_name:str,):\n",
    "        with open('dlist.json','r') as file:\n",
    "            self.dlist = json.load(file)\n",
    "        self.index_data = self.load_index(index_name)\n",
    "        rf_df = pd.read_csv('DGS3MO.csv')\n",
    "        rf_df['riskfree'] = rf_df['DGS3MO']/365\n",
    "        rf_df.rename(columns={'observation_date': 'date'}, inplace=True)\n",
    "        self.riskfree = rf_df[['date','riskfree']]\n",
    "\n",
    "    def load_index(self, index_name: str) -> pd.DataFrame:\n",
    "        '''Collect index data, compute overnight percentage change'''\n",
    "        data = client.get_aggs(index_name,multiplier=1,timespan='day',adjusted='true',from_='2010-01-01',to='2024-11-30',limit = 50000)\n",
    "        df = pd.DataFrame(data)\n",
    "        df['index_overnight'] = ((df['open'].shift(-1)/df['close'])-1) * 100\n",
    "        df['date'] = df['timestamp'].apply(est)\n",
    "        return df[['date','index_overnight']]\n",
    "    \n",
    "    def ticker_data(self, ticker, end_date):\n",
    "        '''Collect and clean single ticker data, compute ticker and index risk-adjusted returns, match by date'''\n",
    "        start_date = self.dlist[self.dlist.index(end_date) - 252]\n",
    "        data = client.get_aggs(ticker,multiplier=1,timespan='day',adjusted='true',from_=start_date,to=end_date,limit = 50000)\n",
    "        df = pd.DataFrame(data)\n",
    "        df['date'] = df['timestamp'].apply(est)\n",
    "        #fill dates not present (didn't trade on day, leads to incorrect overnight returns if not addressed)\n",
    "        date_range = [date for date in self.dlist if start_date <= date <= end_date]\n",
    "        df = pd.merge(pd.DataFrame({'date': date_range}), df, on='date', how='left')\n",
    "        df[f'{ticker}_overnight'] = ((df['open'].shift(-1)/df['close'])-1) * 100   #overnight returns\n",
    "        #add index data, excess returns\n",
    "        df = pd.merge(df,self.index_data,on='date')\n",
    "        df = pd.merge(df,self.riskfree,on='date')\n",
    "        df[f'{ticker}_return'] = df[f'{ticker}_overnight'] - df['riskfree']   #excess returns\n",
    "        df['index_return'] = df['index_overnight'] - df['riskfree']\n",
    "        return df[['date',f'{ticker}_overnight','index_overnight',f'{ticker}_return','index_return']].dropna()\n",
    "    \n",
    "    \n",
    "    def para_collect(self,dataframe):\n",
    "        '''Collect and clean ticker/index data. Ensures that both covariance matrices are calculated using identical data'''\n",
    "        with concurrent.futures.ThreadPoolExecutor(max_workers=16) as executor:\n",
    "            dataframe_list = list(tqdm(executor.map(self.ticker_data, dataframe['ticker'], dataframe['date']), total=len(dataframe)))\n",
    "        for df,ticker,i in zip(dataframe_list,dataframe['ticker'],range(len(dataframe_list))):\n",
    "            if i == 0:\n",
    "                finaldf = df[['date',f'{ticker}_overnight','index_overnight',f'{ticker}_return','index_return']]\n",
    "            else:\n",
    "                finaldf = pd.merge(finaldf,df[['date',f'{ticker}_overnight',f'{ticker}_return']],on='date',how='outer')\n",
    "        self.cleaned_data = finaldf.dropna()\n",
    "        self.tickers = dataframe['ticker']\n",
    "    \n",
    "    def raw_sigma(self):\n",
    "        '''Use .cov() to estimate no-factor covariance matrix.'''\n",
    "        df = self.cleaned_data[[col for col in self.cleaned_data.columns if 'overnight' in col and 'index' not in col]]\n",
    "        return df.cov()\n",
    "    \n",
    "    def one_factor_sigma(self):\n",
    "        '''Estimate one-factor covariance matrix using ticker beta, idiosyncratic var, and factor var'''\n",
    "        df = self.cleaned_data[[col for col in self.cleaned_data.columns if 'return' in col]]\n",
    "        index_var = df['index_return'].var()\n",
    "        betas = []\n",
    "        idio_var = []\n",
    "        for ticker in [col for col in df.columns if 'index' not in col]:\n",
    "            X = sm.add_constant(df['index_return'])\n",
    "            Y = df[ticker]\n",
    "            model = sm.OLS(Y,X).fit()\n",
    "            betas.append(model.params[1])\n",
    "            idio_var.append(model.resid.var())\n",
    "        betas = np.array(betas)              \n",
    "        idio_var = np.diag(np.array(idio_var))\n",
    "        systematic_cov = index_var * np.outer(betas, betas)\n",
    "        sigma = systematic_cov + idio_var\n",
    "        return pd.DataFrame(sigma)"
   ]
  },
  {
   "cell_type": "markdown",
   "id": "3586f40a",
   "metadata": {},
   "source": [
    "<h1>Min var portfolio</h1>"
   ]
  },
  {
   "cell_type": "code",
   "execution_count": 60,
   "id": "ea559488",
   "metadata": {},
   "outputs": [],
   "source": [
    "def min_var(sigma):\n",
    "    sigma_inv = np.linalg.inv(sigma)\n",
    "    ones = np.ones((sigma.shape[0], 1))\n",
    "    numerator = sigma_inv @ ones\n",
    "    denominator = ones.T @ sigma_inv @ ones\n",
    "    w = (numerator / denominator).flatten()\n",
    "    return w"
   ]
  },
  {
   "cell_type": "code",
   "execution_count": 73,
   "id": "148e6904",
   "metadata": {},
   "outputs": [
    {
     "name": "stderr",
     "output_type": "stream",
     "text": [
      "100%|██████████| 5/5 [00:00<00:00, 16.60it/s]\n"
     ]
    },
    {
     "data": {
      "text/html": [
       "<div>\n",
       "<style scoped>\n",
       "    .dataframe tbody tr th:only-of-type {\n",
       "        vertical-align: middle;\n",
       "    }\n",
       "\n",
       "    .dataframe tbody tr th {\n",
       "        vertical-align: top;\n",
       "    }\n",
       "\n",
       "    .dataframe thead th {\n",
       "        text-align: right;\n",
       "    }\n",
       "</style>\n",
       "<table border=\"1\" class=\"dataframe\">\n",
       "  <thead>\n",
       "    <tr style=\"text-align: right;\">\n",
       "      <th></th>\n",
       "      <th>No Factor Weights</th>\n",
       "      <th>Single Factor Weights</th>\n",
       "    </tr>\n",
       "    <tr>\n",
       "      <th>ticker</th>\n",
       "      <th></th>\n",
       "      <th></th>\n",
       "    </tr>\n",
       "  </thead>\n",
       "  <tbody>\n",
       "    <tr>\n",
       "      <th>AAU</th>\n",
       "      <td>0.014687</td>\n",
       "      <td>0.091961</td>\n",
       "    </tr>\n",
       "    <tr>\n",
       "      <th>ARX</th>\n",
       "      <td>0.682878</td>\n",
       "      <td>0.603410</td>\n",
       "    </tr>\n",
       "    <tr>\n",
       "      <th>AXU</th>\n",
       "      <td>0.029065</td>\n",
       "      <td>0.037352</td>\n",
       "    </tr>\n",
       "    <tr>\n",
       "      <th>AZC</th>\n",
       "      <td>0.231455</td>\n",
       "      <td>0.218124</td>\n",
       "    </tr>\n",
       "    <tr>\n",
       "      <th>CSR</th>\n",
       "      <td>0.041915</td>\n",
       "      <td>0.049153</td>\n",
       "    </tr>\n",
       "  </tbody>\n",
       "</table>\n",
       "</div>"
      ],
      "text/plain": [
       "        No Factor Weights  Single Factor Weights\n",
       "ticker                                          \n",
       "AAU              0.014687               0.091961\n",
       "ARX              0.682878               0.603410\n",
       "AXU              0.029065               0.037352\n",
       "AZC              0.231455               0.218124\n",
       "CSR              0.041915               0.049153"
      ]
     },
     "execution_count": 73,
     "metadata": {},
     "output_type": "execute_result"
    }
   ],
   "source": [
    "dc = data_collector('SPY')\n",
    "dc.para_collect(df.head(5))\n",
    "nf_weights = min_var(np.array(dc.raw_sigma()))\n",
    "sf_weights = min_var(np.array(dc.one_factor_sigma()))\n",
    "mv_df = pd.DataFrame({'No Factor Weights':nf_weights,'Single Factor Weights':sf_weights},index=df.head(5)['ticker'])\n",
    "mv_df"
   ]
  }
 ],
 "metadata": {
  "kernelspec": {
   "display_name": "base",
   "language": "python",
   "name": "python3"
  },
  "language_info": {
   "codemirror_mode": {
    "name": "ipython",
    "version": 3
   },
   "file_extension": ".py",
   "mimetype": "text/x-python",
   "name": "python",
   "nbconvert_exporter": "python",
   "pygments_lexer": "ipython3",
   "version": "3.11.4"
  }
 },
 "nbformat": 4,
 "nbformat_minor": 5
}
