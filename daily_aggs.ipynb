{
 "cells": [
  {
   "cell_type": "code",
   "execution_count": 2,
   "id": "5535c3d3",
   "metadata": {},
   "outputs": [],
   "source": [
    "import pandas as pd\n",
    "from datetime import datetime\n",
    "import requests\n",
    "import numpy as np\n",
    "from polygon.rest import RESTClient\n",
    "from tqdm import tqdm\n",
    "import warnings\n",
    "import pytz\n",
    "from concurrent.futures import ThreadPoolExecutor, as_completed\n",
    "import concurrent.futures\n",
    "import json\n",
    "\n",
    "api_key = 'hFrBS7nzcaLTa8mplO1ejm44DI4EscDM'\n",
    "client = RESTClient(api_key)\n",
    "\n",
    "warnings.simplefilter(action='ignore', category=FutureWarning)\n",
    "#warnings.simplefilter(action='ignore', category=pd_errors.SettingWithCopyWarning)\n",
    "warnings.simplefilter(\"ignore\", category=UserWarning)"
   ]
  },
  {
   "cell_type": "code",
   "execution_count": 3,
   "id": "316a8bf1",
   "metadata": {},
   "outputs": [
    {
     "data": {
      "text/html": [
       "<div>\n",
       "<style scoped>\n",
       "    .dataframe tbody tr th:only-of-type {\n",
       "        vertical-align: middle;\n",
       "    }\n",
       "\n",
       "    .dataframe tbody tr th {\n",
       "        vertical-align: top;\n",
       "    }\n",
       "\n",
       "    .dataframe thead th {\n",
       "        text-align: right;\n",
       "    }\n",
       "</style>\n",
       "<table border=\"1\" class=\"dataframe\">\n",
       "  <thead>\n",
       "    <tr style=\"text-align: right;\">\n",
       "      <th></th>\n",
       "      <th>Unnamed: 0.2</th>\n",
       "      <th>Unnamed: 0.1</th>\n",
       "      <th>Unnamed: 0</th>\n",
       "      <th>key</th>\n",
       "      <th>%c1m</th>\n",
       "      <th>%c1m_lag1</th>\n",
       "      <th>%c1m_lag2</th>\n",
       "      <th>%c1m_lag3</th>\n",
       "      <th>%c2m</th>\n",
       "      <th>%c2m_lag1</th>\n",
       "      <th>...</th>\n",
       "      <th>%c270m_screen</th>\n",
       "      <th>%c285m_screen</th>\n",
       "      <th>%c300m_screen</th>\n",
       "      <th>%c315m_screen</th>\n",
       "      <th>%c330m_screen</th>\n",
       "      <th>%c345m_screen</th>\n",
       "      <th>%c360m_screen</th>\n",
       "      <th>%c375m_screen</th>\n",
       "      <th>ticker</th>\n",
       "      <th>date</th>\n",
       "    </tr>\n",
       "  </thead>\n",
       "  <tbody>\n",
       "    <tr>\n",
       "      <th>0</th>\n",
       "      <td>0</td>\n",
       "      <td>0</td>\n",
       "      <td>991</td>\n",
       "      <td>AA_2021-03-18</td>\n",
       "      <td>0.001304</td>\n",
       "      <td>-0.001046</td>\n",
       "      <td>-0.000497</td>\n",
       "      <td>0.001117</td>\n",
       "      <td>0.000257</td>\n",
       "      <td>0.000620</td>\n",
       "      <td>...</td>\n",
       "      <td>0</td>\n",
       "      <td>0</td>\n",
       "      <td>0</td>\n",
       "      <td>0</td>\n",
       "      <td>0</td>\n",
       "      <td>0</td>\n",
       "      <td>0</td>\n",
       "      <td>0</td>\n",
       "      <td>AA</td>\n",
       "      <td>2021-03-18</td>\n",
       "    </tr>\n",
       "    <tr>\n",
       "      <th>1</th>\n",
       "      <td>1</td>\n",
       "      <td>1</td>\n",
       "      <td>1170</td>\n",
       "      <td>AA_2021-12-01</td>\n",
       "      <td>0.001808</td>\n",
       "      <td>-0.000352</td>\n",
       "      <td>-0.002130</td>\n",
       "      <td>-0.001119</td>\n",
       "      <td>0.001455</td>\n",
       "      <td>-0.003247</td>\n",
       "      <td>...</td>\n",
       "      <td>0</td>\n",
       "      <td>0</td>\n",
       "      <td>0</td>\n",
       "      <td>0</td>\n",
       "      <td>1</td>\n",
       "      <td>0</td>\n",
       "      <td>0</td>\n",
       "      <td>0</td>\n",
       "      <td>AA</td>\n",
       "      <td>2021-12-01</td>\n",
       "    </tr>\n",
       "    <tr>\n",
       "      <th>2</th>\n",
       "      <td>2</td>\n",
       "      <td>2</td>\n",
       "      <td>1372</td>\n",
       "      <td>AA_2022-09-21</td>\n",
       "      <td>-0.000755</td>\n",
       "      <td>-0.000833</td>\n",
       "      <td>-0.000215</td>\n",
       "      <td>-0.000086</td>\n",
       "      <td>-0.001588</td>\n",
       "      <td>-0.000301</td>\n",
       "      <td>...</td>\n",
       "      <td>0</td>\n",
       "      <td>0</td>\n",
       "      <td>0</td>\n",
       "      <td>0</td>\n",
       "      <td>0</td>\n",
       "      <td>0</td>\n",
       "      <td>0</td>\n",
       "      <td>0</td>\n",
       "      <td>AA</td>\n",
       "      <td>2022-09-21</td>\n",
       "    </tr>\n",
       "    <tr>\n",
       "      <th>3</th>\n",
       "      <td>3</td>\n",
       "      <td>3</td>\n",
       "      <td>1402</td>\n",
       "      <td>AA_2022-11-02</td>\n",
       "      <td>-0.000124</td>\n",
       "      <td>-0.000995</td>\n",
       "      <td>0.000483</td>\n",
       "      <td>0.000777</td>\n",
       "      <td>-0.001119</td>\n",
       "      <td>0.001260</td>\n",
       "      <td>...</td>\n",
       "      <td>0</td>\n",
       "      <td>0</td>\n",
       "      <td>0</td>\n",
       "      <td>0</td>\n",
       "      <td>0</td>\n",
       "      <td>0</td>\n",
       "      <td>0</td>\n",
       "      <td>0</td>\n",
       "      <td>AA</td>\n",
       "      <td>2022-11-02</td>\n",
       "    </tr>\n",
       "    <tr>\n",
       "      <th>4</th>\n",
       "      <td>4</td>\n",
       "      <td>4</td>\n",
       "      <td>1686</td>\n",
       "      <td>AA_2023-12-20</td>\n",
       "      <td>-0.000746</td>\n",
       "      <td>-0.000092</td>\n",
       "      <td>-0.000807</td>\n",
       "      <td>-0.000470</td>\n",
       "      <td>-0.000837</td>\n",
       "      <td>-0.001277</td>\n",
       "      <td>...</td>\n",
       "      <td>0</td>\n",
       "      <td>0</td>\n",
       "      <td>0</td>\n",
       "      <td>0</td>\n",
       "      <td>0</td>\n",
       "      <td>0</td>\n",
       "      <td>0</td>\n",
       "      <td>0</td>\n",
       "      <td>AA</td>\n",
       "      <td>2023-12-20</td>\n",
       "    </tr>\n",
       "    <tr>\n",
       "      <th>...</th>\n",
       "      <td>...</td>\n",
       "      <td>...</td>\n",
       "      <td>...</td>\n",
       "      <td>...</td>\n",
       "      <td>...</td>\n",
       "      <td>...</td>\n",
       "      <td>...</td>\n",
       "      <td>...</td>\n",
       "      <td>...</td>\n",
       "      <td>...</td>\n",
       "      <td>...</td>\n",
       "      <td>...</td>\n",
       "      <td>...</td>\n",
       "      <td>...</td>\n",
       "      <td>...</td>\n",
       "      <td>...</td>\n",
       "      <td>...</td>\n",
       "      <td>...</td>\n",
       "      <td>...</td>\n",
       "      <td>...</td>\n",
       "      <td>...</td>\n",
       "    </tr>\n",
       "    <tr>\n",
       "      <th>232661</th>\n",
       "      <td>232661</td>\n",
       "      <td>232661</td>\n",
       "      <td>212630</td>\n",
       "      <td>ZYXI_2023-05-04</td>\n",
       "      <td>-0.000972</td>\n",
       "      <td>0.002065</td>\n",
       "      <td>0.003576</td>\n",
       "      <td>0.001226</td>\n",
       "      <td>0.001092</td>\n",
       "      <td>0.004806</td>\n",
       "      <td>...</td>\n",
       "      <td>0</td>\n",
       "      <td>1</td>\n",
       "      <td>1</td>\n",
       "      <td>1</td>\n",
       "      <td>1</td>\n",
       "      <td>1</td>\n",
       "      <td>1</td>\n",
       "      <td>1</td>\n",
       "      <td>ZYXI</td>\n",
       "      <td>2023-05-04</td>\n",
       "    </tr>\n",
       "    <tr>\n",
       "      <th>232662</th>\n",
       "      <td>232662</td>\n",
       "      <td>232662</td>\n",
       "      <td>212690</td>\n",
       "      <td>ZYXI_2023-08-01</td>\n",
       "      <td>0.000128</td>\n",
       "      <td>0.000116</td>\n",
       "      <td>0.001977</td>\n",
       "      <td>0.000652</td>\n",
       "      <td>0.000244</td>\n",
       "      <td>0.002629</td>\n",
       "      <td>...</td>\n",
       "      <td>0</td>\n",
       "      <td>0</td>\n",
       "      <td>1</td>\n",
       "      <td>1</td>\n",
       "      <td>1</td>\n",
       "      <td>1</td>\n",
       "      <td>1</td>\n",
       "      <td>0</td>\n",
       "      <td>ZYXI</td>\n",
       "      <td>2023-08-01</td>\n",
       "    </tr>\n",
       "    <tr>\n",
       "      <th>232663</th>\n",
       "      <td>232663</td>\n",
       "      <td>232663</td>\n",
       "      <td>212746</td>\n",
       "      <td>ZYXI_2023-10-19</td>\n",
       "      <td>0.000065</td>\n",
       "      <td>0.002243</td>\n",
       "      <td>0.002117</td>\n",
       "      <td>0.002227</td>\n",
       "      <td>0.002309</td>\n",
       "      <td>0.004349</td>\n",
       "      <td>...</td>\n",
       "      <td>0</td>\n",
       "      <td>0</td>\n",
       "      <td>0</td>\n",
       "      <td>0</td>\n",
       "      <td>0</td>\n",
       "      <td>0</td>\n",
       "      <td>0</td>\n",
       "      <td>0</td>\n",
       "      <td>ZYXI</td>\n",
       "      <td>2023-10-19</td>\n",
       "    </tr>\n",
       "    <tr>\n",
       "      <th>232664</th>\n",
       "      <td>232664</td>\n",
       "      <td>232664</td>\n",
       "      <td>212765</td>\n",
       "      <td>ZYXI_2023-11-15</td>\n",
       "      <td>0.000045</td>\n",
       "      <td>-0.000079</td>\n",
       "      <td>0.000284</td>\n",
       "      <td>0.000397</td>\n",
       "      <td>-0.000034</td>\n",
       "      <td>0.000681</td>\n",
       "      <td>...</td>\n",
       "      <td>0</td>\n",
       "      <td>0</td>\n",
       "      <td>0</td>\n",
       "      <td>0</td>\n",
       "      <td>0</td>\n",
       "      <td>0</td>\n",
       "      <td>0</td>\n",
       "      <td>0</td>\n",
       "      <td>ZYXI</td>\n",
       "      <td>2023-11-15</td>\n",
       "    </tr>\n",
       "    <tr>\n",
       "      <th>232665</th>\n",
       "      <td>232665</td>\n",
       "      <td>232665</td>\n",
       "      <td>212902</td>\n",
       "      <td>ZYXI_2024-06-04</td>\n",
       "      <td>-0.000588</td>\n",
       "      <td>-0.003419</td>\n",
       "      <td>-0.004918</td>\n",
       "      <td>-0.001323</td>\n",
       "      <td>-0.004005</td>\n",
       "      <td>-0.006235</td>\n",
       "      <td>...</td>\n",
       "      <td>0</td>\n",
       "      <td>0</td>\n",
       "      <td>0</td>\n",
       "      <td>0</td>\n",
       "      <td>0</td>\n",
       "      <td>0</td>\n",
       "      <td>0</td>\n",
       "      <td>0</td>\n",
       "      <td>ZYXI</td>\n",
       "      <td>2024-06-04</td>\n",
       "    </tr>\n",
       "  </tbody>\n",
       "</table>\n",
       "<p>232666 rows × 160 columns</p>\n",
       "</div>"
      ],
      "text/plain": [
       "        Unnamed: 0.2  Unnamed: 0.1  Unnamed: 0              key      %c1m  \\\n",
       "0                  0             0         991    AA_2021-03-18  0.001304   \n",
       "1                  1             1        1170    AA_2021-12-01  0.001808   \n",
       "2                  2             2        1372    AA_2022-09-21 -0.000755   \n",
       "3                  3             3        1402    AA_2022-11-02 -0.000124   \n",
       "4                  4             4        1686    AA_2023-12-20 -0.000746   \n",
       "...              ...           ...         ...              ...       ...   \n",
       "232661        232661        232661      212630  ZYXI_2023-05-04 -0.000972   \n",
       "232662        232662        232662      212690  ZYXI_2023-08-01  0.000128   \n",
       "232663        232663        232663      212746  ZYXI_2023-10-19  0.000065   \n",
       "232664        232664        232664      212765  ZYXI_2023-11-15  0.000045   \n",
       "232665        232665        232665      212902  ZYXI_2024-06-04 -0.000588   \n",
       "\n",
       "        %c1m_lag1  %c1m_lag2  %c1m_lag3      %c2m  %c2m_lag1  ...  \\\n",
       "0       -0.001046  -0.000497   0.001117  0.000257   0.000620  ...   \n",
       "1       -0.000352  -0.002130  -0.001119  0.001455  -0.003247  ...   \n",
       "2       -0.000833  -0.000215  -0.000086 -0.001588  -0.000301  ...   \n",
       "3       -0.000995   0.000483   0.000777 -0.001119   0.001260  ...   \n",
       "4       -0.000092  -0.000807  -0.000470 -0.000837  -0.001277  ...   \n",
       "...           ...        ...        ...       ...        ...  ...   \n",
       "232661   0.002065   0.003576   0.001226  0.001092   0.004806  ...   \n",
       "232662   0.000116   0.001977   0.000652  0.000244   0.002629  ...   \n",
       "232663   0.002243   0.002117   0.002227  0.002309   0.004349  ...   \n",
       "232664  -0.000079   0.000284   0.000397 -0.000034   0.000681  ...   \n",
       "232665  -0.003419  -0.004918  -0.001323 -0.004005  -0.006235  ...   \n",
       "\n",
       "        %c270m_screen  %c285m_screen  %c300m_screen  %c315m_screen  \\\n",
       "0                   0              0              0              0   \n",
       "1                   0              0              0              0   \n",
       "2                   0              0              0              0   \n",
       "3                   0              0              0              0   \n",
       "4                   0              0              0              0   \n",
       "...               ...            ...            ...            ...   \n",
       "232661              0              1              1              1   \n",
       "232662              0              0              1              1   \n",
       "232663              0              0              0              0   \n",
       "232664              0              0              0              0   \n",
       "232665              0              0              0              0   \n",
       "\n",
       "        %c330m_screen  %c345m_screen  %c360m_screen  %c375m_screen  ticker  \\\n",
       "0                   0              0              0              0      AA   \n",
       "1                   1              0              0              0      AA   \n",
       "2                   0              0              0              0      AA   \n",
       "3                   0              0              0              0      AA   \n",
       "4                   0              0              0              0      AA   \n",
       "...               ...            ...            ...            ...     ...   \n",
       "232661              1              1              1              1    ZYXI   \n",
       "232662              1              1              1              0    ZYXI   \n",
       "232663              0              0              0              0    ZYXI   \n",
       "232664              0              0              0              0    ZYXI   \n",
       "232665              0              0              0              0    ZYXI   \n",
       "\n",
       "              date  \n",
       "0       2021-03-18  \n",
       "1       2021-12-01  \n",
       "2       2022-09-21  \n",
       "3       2022-11-02  \n",
       "4       2023-12-20  \n",
       "...            ...  \n",
       "232661  2023-05-04  \n",
       "232662  2023-08-01  \n",
       "232663  2023-10-19  \n",
       "232664  2023-11-15  \n",
       "232665  2024-06-04  \n",
       "\n",
       "[232666 rows x 160 columns]"
      ]
     },
     "execution_count": 3,
     "metadata": {},
     "output_type": "execute_result"
    }
   ],
   "source": [
    "with open('dlist.json', 'r') as file:\n",
    "    dlist = json.load(file)\n",
    "df = pd.read_csv('save2.csv')\n",
    "df['ticker'] = df['key'].str.split('_').str[0]\n",
    "df['date'] = df['key'].str.split('_').str[1]\n",
    "df"
   ]
  },
  {
   "cell_type": "markdown",
   "id": "d778459f",
   "metadata": {},
   "source": [
    "<h1>Get daily aggs</h1>"
   ]
  },
  {
   "cell_type": "code",
   "execution_count": 4,
   "id": "a191d512",
   "metadata": {},
   "outputs": [],
   "source": [
    "def unix(date_str,hour,minute):\n",
    "    date = datetime.strptime(date_str, '%Y-%m-%d').date()\n",
    "    #Define Eastern Standard Time (EST) timezone\n",
    "    est_tz = pytz.timezone('America/New_York')\n",
    "    #Create datetime object\n",
    "    est_time = datetime(date.year, date.month, date.day, hour, minute, 0)\n",
    "    #Localize the datetime object to EST timezone\n",
    "    est_dt = est_tz.localize(est_time, is_dst=None)\n",
    "    # Convert the datetime object to UTC timezone\n",
    "    utc_dt = est_dt.astimezone(pytz.utc)\n",
    "    # Calculate the Unix timestamp in milliseconds\n",
    "    unix_timestamp_ms = int((utc_dt - datetime(1970, 1, 1, tzinfo=pytz.utc)).total_seconds() * 1000)\n",
    "    return unix_timestamp_ms"
   ]
  },
  {
   "cell_type": "code",
   "execution_count": 5,
   "id": "b23f74f4",
   "metadata": {},
   "outputs": [
    {
     "data": {
      "text/plain": [
       "{'o1': 182.085,\n",
       " 'o0': 181.99,\n",
       " 'c0': 181.18,\n",
       " 'c-1': 181.91,\n",
       " 'c-2': 184.25,\n",
       " 'c-3': 185.64}"
      ]
     },
     "execution_count": 5,
     "metadata": {},
     "output_type": "execute_result"
    }
   ],
   "source": [
    "def daily_aggs(ticker,date):\n",
    "    try:\n",
    "        #setup\n",
    "        ret_dict = {}\n",
    "        s_date = dlist[dlist.index(date) - 3]\n",
    "        e_date = dlist[dlist.index(date) + 1]\n",
    "        #call API\n",
    "        data = client.get_aggs(ticker,\n",
    "                                multiplier=1,\n",
    "                                timespan='day',\n",
    "                                adjusted='false',\n",
    "                                from_=s_date,\n",
    "                                to=e_date)\n",
    "        df = pd.DataFrame(data)\n",
    "        #Next open data\n",
    "        odf = df[df['timestamp'] == unix(e_date,0,0)]\n",
    "        if not odf.empty:\n",
    "            ret_dict['o1'] = odf['open'].values[0]\n",
    "        else:\n",
    "            ret_dict['o1'] = np.nan\n",
    "        #Trade day data\n",
    "        tdf = df[df['timestamp'] == unix(date,0,0)]\n",
    "        if not tdf.empty:\n",
    "            ret_dict['o0'] = tdf['open'].values[0]\n",
    "            ret_dict['c0'] = tdf['close'].values[0]\n",
    "        else:\n",
    "            ret_dict['o0'] = ret_dict['c0'] = np.nan\n",
    "        #previous days\n",
    "        for x in range(1,4):\n",
    "            pdf = df[df['timestamp'] == unix(dlist[dlist.index(date) - x],0,0)]\n",
    "            if not pdf.empty:\n",
    "                ret_dict[f'c-{x}'] = pdf['close'].values[0]\n",
    "            else:\n",
    "                ret_dict[f'c-{x}'] = np.nan\n",
    "        return ret_dict\n",
    "    except Exception as e:\n",
    "        print(ticker,date,e)\n",
    "        ret_dict['o1'] = ret_dict['o0'] = ret_dict['c0'] = ret_dict['c-1'] = ret_dict['c-2'] = ret_dict['c-3'] = np.nan\n",
    "        return ret_dict\n",
    "daily_aggs('AAPL','2024-01-05')"
   ]
  },
  {
   "cell_type": "code",
   "execution_count": 6,
   "id": "d5ca5927",
   "metadata": {},
   "outputs": [
    {
     "name": "stderr",
     "output_type": "stream",
     "text": [
      "100%|██████████| 232666/232666 [45:36<00:00, 85.02it/s]  \n"
     ]
    },
    {
     "name": "stdout",
     "output_type": "stream",
     "text": [
      "<class 'pandas.core.frame.DataFrame'>\n",
      "RangeIndex: 232666 entries, 0 to 232665\n",
      "Columns: 166 entries, Unnamed: 0.2 to c-3\n",
      "dtypes: float64(127), int64(36), object(3)\n",
      "memory usage: 294.7+ MB\n"
     ]
    }
   ],
   "source": [
    "with concurrent.futures.ThreadPoolExecutor(max_workers=16) as executor:\n",
    "    results = list(tqdm(executor.map(daily_aggs, df['ticker'], df['date']), total=len(df)))\n",
    "daily_df = pd.DataFrame(results)\n",
    "df = pd.concat([df, daily_df], axis=1)\n",
    "df.info()"
   ]
  },
  {
   "cell_type": "markdown",
   "id": "a4b022cc",
   "metadata": {},
   "source": [
    "<h1>Get next day open data</h1>"
   ]
  },
  {
   "cell_type": "code",
   "execution_count": 7,
   "id": "b3c95f2c",
   "metadata": {},
   "outputs": [],
   "source": [
    "def unix_s(date_str, hour, minute, seconds):\n",
    "    date = datetime.strptime(date_str, '%Y-%m-%d').date()\n",
    "    # Define Eastern Standard Time (EST) timezone\n",
    "    est_tz = pytz.timezone('America/New_York')\n",
    "    # Create datetime object\n",
    "    est_time = datetime(date.year, date.month, date.day, hour, minute, seconds)\n",
    "    # Localize the datetime object to EST timezone\n",
    "    est_dt = est_tz.localize(est_time, is_dst=None)\n",
    "    # Convert the datetime object to UTC timezone\n",
    "    utc_dt = est_dt.astimezone(pytz.utc)\n",
    "    # Calculate the Unix timestamp in milliseconds\n",
    "    unix_timestamp_ms = int((utc_dt - datetime(1970, 1, 1, tzinfo=pytz.utc)).total_seconds() * 1000)\n",
    "    return unix_timestamp_ms\n",
    "#unix_s('2024-01-01',9,30,1)"
   ]
  },
  {
   "cell_type": "code",
   "execution_count": 8,
   "id": "4eeb7602",
   "metadata": {},
   "outputs": [],
   "source": [
    "def est_seconds(unix_ms_timestamp):\n",
    "    # Convert Unix timestamp in milliseconds to seconds\n",
    "    unix_seconds = unix_ms_timestamp / 1000.0\n",
    "    # Create a datetime object from the Unix timestamp\n",
    "    utc_time = datetime.utcfromtimestamp(unix_seconds)\n",
    "    # Define the UTC and EST timezones\n",
    "    utc_zone = pytz.utc\n",
    "    est_zone = pytz.timezone('US/Eastern')\n",
    "    # Localize the UTC datetime object to UTC timezone\n",
    "    utc_time = utc_zone.localize(utc_time)\n",
    "    # Convert the UTC time to EST\n",
    "    est_time = utc_time.astimezone(est_zone)\n",
    "    est_time = est_time.replace(tzinfo=None)\n",
    "    # Create a reference time for 9:30 AM EST on the same date\n",
    "    reference_time = datetime(est_time.year, est_time.month, est_time.day, 9, 30)\n",
    "    # Calculate the difference in seconds between the given time and 9:30 AM\n",
    "    time_diff = est_time - reference_time\n",
    "    # Return the total seconds\n",
    "    return int(time_diff.total_seconds())\n",
    "#est_seconds(1704119401000)"
   ]
  },
  {
   "cell_type": "code",
   "execution_count": 9,
   "id": "be974e08",
   "metadata": {},
   "outputs": [
    {
     "data": {
      "text/plain": [
       "{'first_tick': 130.365, 'first_tick_time': 76, '9:30_dv': 0, '9:30_vw': nan}"
      ]
     },
     "execution_count": 9,
     "metadata": {},
     "output_type": "execute_result"
    }
   ],
   "source": [
    "def next_open_aggs(ticker,date):\n",
    "    try:\n",
    "        #setup\n",
    "        ret_dict = {}\n",
    "        next_date = dlist[dlist.index(date) + 1]\n",
    "        #call API\n",
    "        data = client.get_aggs(ticker,\n",
    "                                multiplier=1,\n",
    "                                timespan='second',\n",
    "                                adjusted='false',\n",
    "                                from_=unix_s(next_date,9,30,1),\n",
    "                                to=unix_s(next_date,15,59,0),\n",
    "                                limit = 500)\n",
    "        df = pd.DataFrame(data)\n",
    "        if df.empty:\n",
    "            ret_dict['first_tick'] = ret_dict['first_tick_time'] = ret_dict['9:30_vw'] = np.nan\n",
    "            ret_dict['9:30_dv'] = 0\n",
    "            return ret_dict\n",
    "        df['dv'] = df['volume'] * df['vwap']\n",
    "        #first tick\n",
    "        ret_dict['first_tick'] = df['open'].iloc[0]\n",
    "        ret_dict['first_tick_time'] = est_seconds(df['timestamp'].iloc[0])\n",
    "        #9:30 after open\n",
    "        df1 = df[df['timestamp'] < unix_s(next_date,9,31,0)]\n",
    "        if not df1.empty:\n",
    "            ret_dict['9:30_dv'] = (df1['vwap'] * df1['volume']).sum()\n",
    "            ret_dict['9:30_vw'] = round((ret_dict['9:30_dv']/df1['volume'].sum()),6)\n",
    "        else:\n",
    "            ret_dict['9:30_dv'] = 0\n",
    "            ret_dict['9:30_vw'] = np.nan\n",
    "        return ret_dict\n",
    "    except Exception as e:\n",
    "        print(ticker,date,e)\n",
    "        ret_dict['first_tick'] = ret_dict['first_tick_time'] = ret_dict['9:30_vw'] = np.nan\n",
    "        ret_dict['9:30_dv'] = 0\n",
    "        return ret_dict\n",
    "next_open_aggs('A','2024-01-05')"
   ]
  },
  {
   "cell_type": "code",
   "execution_count": 10,
   "id": "16099cdf",
   "metadata": {},
   "outputs": [
    {
     "name": "stderr",
     "output_type": "stream",
     "text": [
      "100%|██████████| 232666/232666 [1:07:54<00:00, 57.10it/s] \n"
     ]
    },
    {
     "name": "stdout",
     "output_type": "stream",
     "text": [
      "<class 'pandas.core.frame.DataFrame'>\n",
      "RangeIndex: 232666 entries, 0 to 232665\n",
      "Columns: 170 entries, Unnamed: 0.2 to 9:30_vw\n",
      "dtypes: float64(131), int64(36), object(3)\n",
      "memory usage: 301.8+ MB\n"
     ]
    }
   ],
   "source": [
    "with concurrent.futures.ThreadPoolExecutor(max_workers=16) as executor:\n",
    "    results = list(tqdm(executor.map(next_open_aggs, df['ticker'], df['date']), total=len(df)))\n",
    "minute_df = pd.DataFrame(results)\n",
    "df = pd.concat([df, minute_df], axis=1)\n",
    "df.info()"
   ]
  },
  {
   "cell_type": "code",
   "execution_count": 11,
   "id": "4a406158",
   "metadata": {},
   "outputs": [],
   "source": [
    "df.to_csv('save3.csv')"
   ]
  },
  {
   "cell_type": "markdown",
   "id": "2bf33416",
   "metadata": {},
   "source": [
    "<h1>Get bid/ask data</h1>"
   ]
  },
  {
   "cell_type": "code",
   "execution_count": 3,
   "id": "4fae0b74",
   "metadata": {},
   "outputs": [],
   "source": [
    "df = pd.read_csv('save3.csv')"
   ]
  },
  {
   "cell_type": "code",
   "execution_count": 4,
   "id": "18920cf7",
   "metadata": {},
   "outputs": [],
   "source": [
    "def est_mins(unix_ns_timestamp):\n",
    "    # Convert Unix timestamp in nanoseconds to seconds\n",
    "    unix_seconds = unix_ns_timestamp / 1_000_000_000.0\n",
    "    # Create a datetime object from the Unix timestamp\n",
    "    utc_time = datetime.utcfromtimestamp(unix_seconds)\n",
    "    # Define the UTC and EST timezones\n",
    "    utc_zone = pytz.utc\n",
    "    est_zone = pytz.timezone('US/Eastern')\n",
    "    # Localize the UTC datetime object to UTC timezone\n",
    "    utc_time = utc_zone.localize(utc_time)\n",
    "    # Convert the UTC time to EST\n",
    "    est_time = utc_time.astimezone(est_zone)\n",
    "    est_time = est_time.replace(tzinfo=None)\n",
    "    return est_time.strftime('%H:%M')"
   ]
  },
  {
   "cell_type": "code",
   "execution_count": 5,
   "id": "46b5d06d",
   "metadata": {},
   "outputs": [],
   "source": [
    "def unixn(date_str, hour, minute, second):\n",
    "    date = datetime.strptime(date_str, '%Y-%m-%d').date()\n",
    "    # Define Eastern Standard Time (EST) timezone\n",
    "    est_tz = pytz.timezone('America/New_York')\n",
    "    # Create datetime object with seconds\n",
    "    est_time = datetime(date.year, date.month, date.day, hour, minute, second)\n",
    "    # Localize the datetime object to EST timezone\n",
    "    est_dt = est_tz.localize(est_time, is_dst=None)\n",
    "    # Convert the datetime object to UTC timezone\n",
    "    utc_dt = est_dt.astimezone(pytz.utc)\n",
    "    # Calculate the Unix timestamp in nanoseconds\n",
    "    unix_timestamp_ns = int((utc_dt - datetime(1970, 1, 1, tzinfo=pytz.utc)).total_seconds() * 1e9)\n",
    "    return unix_timestamp_ns"
   ]
  },
  {
   "cell_type": "code",
   "execution_count": 6,
   "id": "e41d7c76",
   "metadata": {},
   "outputs": [
    {
     "data": {
      "text/plain": [
       "{'key': 'k',\n",
       " 'close_bid': 2.8,\n",
       " 'close_mid': 2.815,\n",
       " 'close_ask': 2.83,\n",
       " 'close_ask_depth': 849.0,\n",
       " 'close_quote_time': '15:59'}"
      ]
     },
     "execution_count": 6,
     "metadata": {},
     "output_type": "execute_result"
    }
   ],
   "source": [
    "def nbbo_close(ticker,date_string,key):\n",
    "    try:\n",
    "        ndict = {}\n",
    "        ndict['key'] = key\n",
    "        lb = unixn(date_string,9,30,00)\n",
    "        ub = unixn(date_string,15,59,59)\n",
    "        response = requests.get(f'https://api.polygon.io/v3/quotes/{ticker}?timestamp.gte={lb}&timestamp.lt={ub}&order=desc&sort=timestamp&limit=1&apiKey={api_key}')\n",
    "        data = response.json()\n",
    "        df = pd.DataFrame(data['results'])\n",
    "        if df.empty:\n",
    "            return ndict\n",
    "        ndict['close_bid'] = df['bid_price'].values[0]\n",
    "        ndict['close_mid'] = (df['bid_price'].values[0] + df['ask_price'].values[0]) / 2\n",
    "        ndict['close_ask'] = df['ask_price'].values[0]\n",
    "        ndict['close_ask_depth'] = round(df['ask_price'].values[0] * df['ask_size'].values[0] * 100, 0)\n",
    "        ndict['close_quote_time'] = est_mins(df['sip_timestamp'].values[0])\n",
    "        return ndict\n",
    "    except Exception as e:\n",
    "        print(f'{ticker,date_string}: {e}')\n",
    "        return ndict\n",
    "nbbo_close('STAB', '2021-10-14','k')"
   ]
  },
  {
   "cell_type": "code",
   "execution_count": 7,
   "id": "7bbae474",
   "metadata": {},
   "outputs": [
    {
     "name": "stderr",
     "output_type": "stream",
     "text": [
      " 44%|████▍     | 102662/232666 [56:30<49:06, 44.12it/s]  "
     ]
    },
    {
     "name": "stdout",
     "output_type": "stream",
     "text": [
      "('IMRX', '2024-05-17'): HTTPSConnectionPool(host='api.polygon.io', port=443): Max retries exceeded with url: /v3/quotes/IMRX?timestamp.gte=1715952600000000000&timestamp.lt=1715975999000000000&order=desc&sort=timestamp&limit=1&apiKey=hFrBS7nzcaLTa8mplO1ejm44DI4EscDM (Caused by NewConnectionError('<urllib3.connection.HTTPSConnection object at 0x14e148110>: Failed to establish a new connection: [Errno 8] nodename nor servname provided, or not known'))\n"
     ]
    },
    {
     "name": "stderr",
     "output_type": "stream",
     "text": [
      "100%|██████████| 232666/232666 [1:54:10<00:00, 33.96it/s]   \n"
     ]
    },
    {
     "name": "stdout",
     "output_type": "stream",
     "text": [
      "<class 'pandas.core.frame.DataFrame'>\n",
      "RangeIndex: 232666 entries, 0 to 232665\n",
      "Data columns (total 6 columns):\n",
      " #   Column            Non-Null Count   Dtype  \n",
      "---  ------            --------------   -----  \n",
      " 0   key               232666 non-null  object \n",
      " 1   close_bid         232550 non-null  float64\n",
      " 2   close_mid         232550 non-null  float64\n",
      " 3   close_ask         232550 non-null  float64\n",
      " 4   close_ask_depth   232550 non-null  float64\n",
      " 5   close_quote_time  232550 non-null  object \n",
      "dtypes: float64(4), object(2)\n",
      "memory usage: 10.7+ MB\n"
     ]
    }
   ],
   "source": [
    "with concurrent.futures.ThreadPoolExecutor(max_workers=16) as executor:\n",
    "    results = list(tqdm(executor.map(nbbo_close, df['ticker'], df['date'],df['key']), total=len(df['ticker'])))\n",
    "closedf = pd.DataFrame(results)\n",
    "df = df.merge(closedf, on='key', how='right')\n",
    "closedf.info()"
   ]
  },
  {
   "cell_type": "code",
   "execution_count": 8,
   "id": "50d2befe",
   "metadata": {},
   "outputs": [],
   "source": [
    "df.to_csv('save4.csv')"
   ]
  },
  {
   "cell_type": "code",
   "execution_count": 9,
   "id": "d49d8b5c",
   "metadata": {},
   "outputs": [],
   "source": [
    "with open('dlist.json', 'r') as file:\n",
    "    dlist = json.load(file)"
   ]
  },
  {
   "cell_type": "code",
   "execution_count": 10,
   "id": "d4c2bac7",
   "metadata": {},
   "outputs": [
    {
     "data": {
      "text/plain": [
       "{'key': 'balls',\n",
       " 'open_bid': 1.23,\n",
       " 'open_mid': 1.23,\n",
       " 'open_ask': 1.23,\n",
       " 'open_bid_depth': 123.0,\n",
       " 'open_quote_time': '09:30'}"
      ]
     },
     "execution_count": 10,
     "metadata": {},
     "output_type": "execute_result"
    }
   ],
   "source": [
    "def nbbo_open(ticker,date_string,key):\n",
    "    try:\n",
    "        ndict = {}\n",
    "        ndict['key'] = key\n",
    "        date_stringp1 = dlist[dlist.index(date_string) + 1]\n",
    "        lb = unixn(date_stringp1,9,30,1)\n",
    "        ub = unixn(date_stringp1,16,00,0)\n",
    "        response = requests.get(f'https://api.polygon.io/v3/quotes/{ticker}?timestamp.gte={lb}&timestamp.lt={ub}&order=asc&sort=timestamp&limit=1&apiKey={api_key}')\n",
    "        data = response.json()\n",
    "        df = pd.DataFrame(data['results'])\n",
    "        if not df.empty:\n",
    "            ndict['open_bid'] = df['bid_price'].values[0]\n",
    "            ndict['open_mid'] = (df['bid_price'].values[0] + df['ask_price'].values[0]) / 2\n",
    "            ndict['open_ask'] = df['ask_price'].values[0]\n",
    "            ndict['open_bid_depth'] = round(df['bid_price'].values[0] * df['bid_size'].values[0] * 100, 0)\n",
    "            ndict['open_quote_time'] = est_mins(df['sip_timestamp'].values[0])\n",
    "        else:\n",
    "            return ndict\n",
    "        return ndict\n",
    "    except Exception as e:\n",
    "        print(e)\n",
    "        return ndict\n",
    "nbbo_open('VS','2022-02-25','balls')"
   ]
  },
  {
   "cell_type": "code",
   "execution_count": 11,
   "id": "ca44a689",
   "metadata": {},
   "outputs": [
    {
     "name": "stderr",
     "output_type": "stream",
     "text": [
      "100%|██████████| 232666/232666 [1:15:11<00:00, 51.57it/s]  \n"
     ]
    },
    {
     "name": "stdout",
     "output_type": "stream",
     "text": [
      "<class 'pandas.core.frame.DataFrame'>\n",
      "RangeIndex: 232666 entries, 0 to 232665\n",
      "Data columns (total 6 columns):\n",
      " #   Column           Non-Null Count   Dtype  \n",
      "---  ------           --------------   -----  \n",
      " 0   key              232666 non-null  object \n",
      " 1   open_bid         232468 non-null  float64\n",
      " 2   open_mid         232468 non-null  float64\n",
      " 3   open_ask         232468 non-null  float64\n",
      " 4   open_bid_depth   232468 non-null  float64\n",
      " 5   open_quote_time  232468 non-null  object \n",
      "dtypes: float64(4), object(2)\n",
      "memory usage: 10.7+ MB\n"
     ]
    }
   ],
   "source": [
    "with concurrent.futures.ThreadPoolExecutor(max_workers=16) as executor:\n",
    "    results = list(tqdm(executor.map(nbbo_open, df['ticker'], df['date'], df['key']), total=len(df['ticker'])))\n",
    "opendf = pd.DataFrame(results)\n",
    "df = df.merge(opendf, on='key', how='right')\n",
    "opendf.info()"
   ]
  },
  {
   "cell_type": "code",
   "execution_count": 12,
   "id": "f23753c4",
   "metadata": {},
   "outputs": [],
   "source": [
    "df.to_csv('save5.csv')"
   ]
  },
  {
   "cell_type": "markdown",
   "id": "3f46eeae",
   "metadata": {},
   "source": [
    "<h1>Adjust data for splits</h1>"
   ]
  },
  {
   "cell_type": "code",
   "execution_count": 4,
   "id": "936a4aec",
   "metadata": {},
   "outputs": [],
   "source": [
    "df = pd.read_csv('save5.csv')"
   ]
  },
  {
   "cell_type": "code",
   "execution_count": 5,
   "id": "cd781942",
   "metadata": {},
   "outputs": [
    {
     "data": {
      "text/plain": [
       "[{'execution_date': '2024-04-12',\n",
       "  'id': 'E24344ef530d56e1636c10e0a467dd99e758250cbbe9d14f465ac4334ab7081b7',\n",
       "  'split_from': 40,\n",
       "  'split_to': 1,\n",
       "  'ticker': 'EZGO',\n",
       "  'raw_factor': 40.0}]"
      ]
     },
     "execution_count": 5,
     "metadata": {},
     "output_type": "execute_result"
    }
   ],
   "source": [
    "def splits(ticker):\n",
    "    try:\n",
    "        response = requests.get(f'https://api.polygon.io/v3/reference/splits?ticker={ticker}&limit=100&apiKey=hFrBS7nzcaLTa8mplO1ejm44DI4EscDM')\n",
    "        data = response.json()\n",
    "        sdf = pd.DataFrame(data['results'])\n",
    "        if sdf.empty:\n",
    "            return {}\n",
    "        sdf['raw_factor'] = sdf['split_from'] / sdf['split_to']\n",
    "        records_list = sdf.to_dict(orient='records')\n",
    "        single_dict = records_list if records_list else {}\n",
    "        return single_dict\n",
    "    except Exception as e:\n",
    "        print(f\"An exception error occurred for {ticker} on {date}: {e}\")\n",
    "        return {}\n",
    "splits('EZGO')"
   ]
  },
  {
   "cell_type": "code",
   "execution_count": 6,
   "id": "76e87591",
   "metadata": {},
   "outputs": [
    {
     "name": "stderr",
     "output_type": "stream",
     "text": [
      "100%|██████████| 5997/5997 [01:51<00:00, 53.99it/s]"
     ]
    },
    {
     "name": "stdout",
     "output_type": "stream",
     "text": [
      "<class 'pandas.core.frame.DataFrame'>\n",
      "RangeIndex: 3445 entries, 0 to 3444\n",
      "Data columns (total 6 columns):\n",
      " #   Column          Non-Null Count  Dtype  \n",
      "---  ------          --------------  -----  \n",
      " 0   execution_date  3445 non-null   object \n",
      " 1   id              3445 non-null   object \n",
      " 2   split_from      3445 non-null   float64\n",
      " 3   split_to        3445 non-null   float64\n",
      " 4   ticker          3445 non-null   object \n",
      " 5   raw_factor      3445 non-null   float64\n",
      "dtypes: float64(3), object(3)\n",
      "memory usage: 161.6+ KB\n"
     ]
    },
    {
     "name": "stderr",
     "output_type": "stream",
     "text": [
      "\n"
     ]
    }
   ],
   "source": [
    "with concurrent.futures.ThreadPoolExecutor(max_workers=16) as executor:\n",
    "    results = list(tqdm(executor.map(splits, df['ticker'].unique()), total=len(df['ticker'].unique())))\n",
    "results = [item for sublist in results for item in sublist]\n",
    "split_df = pd.DataFrame(results)\n",
    "split_df.info()"
   ]
  },
  {
   "cell_type": "code",
   "execution_count": 7,
   "id": "f70dfd99",
   "metadata": {},
   "outputs": [
    {
     "name": "stderr",
     "output_type": "stream",
     "text": [
      "  0%|          | 0/3445 [00:00<?, ?it/s]"
     ]
    },
    {
     "name": "stderr",
     "output_type": "stream",
     "text": [
      "100%|██████████| 3445/3445 [01:01<00:00, 55.76it/s]\n"
     ]
    }
   ],
   "source": [
    "ind_col_fac = []\n",
    "for ticker, split_date, factor in tqdm(zip(split_df['ticker'],split_df['execution_date'],split_df['raw_factor']),total=len(split_df)):\n",
    "    tdf = df[df['ticker'] == ticker]\n",
    "    for _,row in tdf.iterrows():\n",
    "        date_range = dlist[dlist.index(row['date']) - 3: dlist.index(row['date']) + 2]\n",
    "        if split_date in date_range:\n",
    "            pos = date_range.index(split_date)\n",
    "            if pos == 1:\n",
    "                ind_col_fac.append([row.name,['c-3'],factor])\n",
    "            elif pos == 2:\n",
    "                ind_col_fac.append([row.name,['c-3','c-2'],factor])\n",
    "            elif pos == 3:\n",
    "                ind_col_fac.append([row.name,['c-3','c-2','c-1'],factor])\n",
    "            elif pos == 4:\n",
    "                ind_col_fac.append([row.name,['c-3','c-2','c-1','o0','c0','15:59_o','15:58_c','15:59_vw','close_bid','close_mid','close_ask'],factor])"
   ]
  },
  {
   "cell_type": "code",
   "execution_count": 8,
   "id": "e266ff46",
   "metadata": {},
   "outputs": [
    {
     "name": "stderr",
     "output_type": "stream",
     "text": [
      "100%|██████████| 1624/1624 [00:00<00:00, 3874.60it/s]\n"
     ]
    }
   ],
   "source": [
    "for ind,cols,fac in tqdm(ind_col_fac,total=len(ind_col_fac)):\n",
    "    for col in cols:\n",
    "        df.at[ind, col] = df.at[ind, col] * fac"
   ]
  },
  {
   "cell_type": "code",
   "execution_count": 9,
   "id": "57b5a75a",
   "metadata": {},
   "outputs": [],
   "source": [
    "df.to_csv('save6.csv')"
   ]
  },
  {
   "cell_type": "markdown",
   "id": "9eb55777",
   "metadata": {},
   "source": [
    "<h1>Create features</h1>"
   ]
  },
  {
   "cell_type": "code",
   "execution_count": 10,
   "id": "6589042b",
   "metadata": {},
   "outputs": [],
   "source": [
    "#previous moves\n",
    "df['%cintra'] = round((df['15:58_c']/df['o0'])-1,6)\n",
    "df['%c1d'] = round((df['15:58_c']/df['c-1'])-1,6)\n",
    "df['%cpah'] = round((df['o0']/df['c-1'])-1,6)\n",
    "df['%c2d'] = round((df['15:58_c']/df['c-2'])-1,6)\n",
    "df['%c3d'] = round((df['15:58_c']/df['c-3'])-1,6)"
   ]
  },
  {
   "cell_type": "code",
   "execution_count": 11,
   "id": "57b8438d",
   "metadata": {},
   "outputs": [],
   "source": [
    "#returns\n",
    "df['vwap_return'] = round((df['9:30_vw']/df['15:59_vw'])-1,6)\n",
    "df['vwap_ft_return'] = round((df['first_tick']/df['15:59_vw'])-1,6)\n",
    "df['ask_bid_return'] = round((df['open_bid']/df['close_ask'])-1,6)\n",
    "df['mid_return'] = round((df['open_mid']/df['close_mid'])-1,6)\n",
    "df['spread_entry'] = np.where(df['15:59_vw'].notna(), df['15:59_vw'], df['close_ask'])\n",
    "df['spread_exit'] = np.where(df['9:30_vw'].notna(), df['9:30_vw'], df['open_bid'])\n",
    "df['vwap_sfill_return'] = round((df['spread_exit']/df['spread_entry'])-1,6)"
   ]
  },
  {
   "cell_type": "code",
   "execution_count": 12,
   "id": "8dbbfb74",
   "metadata": {},
   "outputs": [],
   "source": [
    "df.to_csv('dirty_main.csv')"
   ]
  },
  {
   "cell_type": "code",
   "execution_count": null,
   "id": "44b369c7",
   "metadata": {},
   "outputs": [],
   "source": []
  }
 ],
 "metadata": {
  "kernelspec": {
   "display_name": "base",
   "language": "python",
   "name": "python3"
  },
  "language_info": {
   "codemirror_mode": {
    "name": "ipython",
    "version": 3
   },
   "file_extension": ".py",
   "mimetype": "text/x-python",
   "name": "python",
   "nbconvert_exporter": "python",
   "pygments_lexer": "ipython3",
   "version": "3.11.4"
  }
 },
 "nbformat": 4,
 "nbformat_minor": 5
}
