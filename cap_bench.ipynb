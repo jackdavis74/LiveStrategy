{
 "cells": [
  {
   "cell_type": "code",
   "execution_count": 154,
   "id": "5535c3d3",
   "metadata": {},
   "outputs": [],
   "source": [
    "import pandas as pd\n",
    "from datetime import datetime\n",
    "import requests\n",
    "import numpy as np\n",
    "from polygon.rest import RESTClient\n",
    "from tqdm import tqdm\n",
    "import warnings\n",
    "import pytz\n",
    "from concurrent.futures import ThreadPoolExecutor, as_completed\n",
    "import concurrent.futures\n",
    "import json\n",
    "import requests\n",
    "from requests.adapters import HTTPAdapter\n",
    "from requests.packages.urllib3.util.retry import Retry\n",
    "\n",
    "api_key = 'hFrBS7nzcaLTa8mplO1ejm44DI4EscDM'\n",
    "client = RESTClient(api_key)\n",
    "\n",
    "warnings.simplefilter(action='ignore', category=FutureWarning)\n",
    "#warnings.simplefilter(action='ignore', category=pd_errors.SettingWithCopyWarning)\n",
    "warnings.simplefilter(\"ignore\", category=UserWarning)"
   ]
  },
  {
   "cell_type": "code",
   "execution_count": 155,
   "id": "559e0686",
   "metadata": {},
   "outputs": [],
   "source": [
    "df = pd.read_csv('dirty_main.csv')"
   ]
  },
  {
   "cell_type": "markdown",
   "id": "34cc5597",
   "metadata": {},
   "source": [
    "<h1>Get market cap and ticker type</h1>"
   ]
  },
  {
   "cell_type": "code",
   "execution_count": 98,
   "id": "3e77af3c",
   "metadata": {},
   "outputs": [],
   "source": [
    "def unix(date_str,hour,minute):\n",
    "    date = datetime.strptime(date_str, '%Y-%m-%d').date()\n",
    "    # Define Eastern Standard Time (EST) timezone\n",
    "    est_tz = pytz.timezone('America/New_York')\n",
    "    # Define the time for 2 PM EST\n",
    "    est_time = datetime(date.year, date.month, date.day, hour, minute, 0)\n",
    "    # Localize the datetime object to EST timezone\n",
    "    est_dt = est_tz.localize(est_time, is_dst=None)\n",
    "    # Convert the datetime object to UTC timezone\n",
    "    utc_dt = est_dt.astimezone(pytz.utc)\n",
    "    # Calculate the Unix timestamp in milliseconds\n",
    "    unix_timestamp_ms = int((utc_dt - datetime(1970, 1, 1, tzinfo=pytz.utc)).total_seconds() * 1000)\n",
    "    return unix_timestamp_ms"
   ]
  },
  {
   "cell_type": "code",
   "execution_count": 28,
   "id": "28ad2c54",
   "metadata": {},
   "outputs": [
    {
     "name": "stdout",
     "output_type": "stream",
     "text": [
      "An error occurred for BIOA on 2024-09-26: market cap 404 Client Error: Not Found for url: https://api.polygon.io/v3/reference/tickers/BIOA?date=2024-09-26&apiKey=hFrBS7nzcaLTa8mplO1ejm44DI4EscDM\n"
     ]
    },
    {
     "data": {
      "text/plain": [
       "nan"
      ]
     },
     "execution_count": 28,
     "metadata": {},
     "output_type": "execute_result"
    }
   ],
   "source": [
    "session = requests.Session()\n",
    "retries = Retry(total=50, backoff_factor=1, status_forcelist=[500, 502, 503, 504, 429])\n",
    "session.mount(\"https://\", HTTPAdapter(max_retries=retries))\n",
    "\n",
    "def market_cap(ticker, date):\n",
    "    try:\n",
    "        url = f'https://api.polygon.io/v3/reference/tickers/{ticker}?date={date}&apiKey={api_key}'\n",
    "        response = session.get(url, timeout=10)  # Add timeout\n",
    "        response.raise_for_status()  # Raise error for bad responses\n",
    "        data_dict = response.json()\n",
    "        if data_dict['status'] == 'OK':\n",
    "            if 'market_cap' in data_dict['results']:\n",
    "                mktcap = data_dict['results']['market_cap']\n",
    "            else:\n",
    "                mktcap = np.nan\n",
    "            if 'type' in data_dict['results']:\n",
    "                t = data_dict['results']['type']\n",
    "            else:\n",
    "                t = np.nan\n",
    "        else:\n",
    "            mktcap = t = np.nan    \n",
    "        return mktcap, t\n",
    "    except Exception as e:\n",
    "        print(f\"An error occurred for {ticker} on {date}: market cap {e}\")\n",
    "        mktcap = np.nan\n",
    "    return mktcap\n",
    "market_cap('BIOA','2024-09-26')"
   ]
  },
  {
   "cell_type": "code",
   "execution_count": 29,
   "id": "ec089e44",
   "metadata": {},
   "outputs": [
    {
     "name": "stderr",
     "output_type": "stream",
     "text": [
      " 13%|█▎        | 30150/232666 [03:37<49:33, 68.10it/s]  "
     ]
    },
    {
     "name": "stdout",
     "output_type": "stream",
     "text": [
      "An error occurred for BIOA on 2024-09-27: market cap 404 Client Error: Not Found for url: https://api.polygon.io/v3/reference/tickers/BIOA?date=2024-09-27&apiKey=hFrBS7nzcaLTa8mplO1ejm44DI4EscDM\n",
      "An error occurred for BIOA on 2024-09-26: market cap 404 Client Error: Not Found for url: https://api.polygon.io/v3/reference/tickers/BIOA?date=2024-09-26&apiKey=hFrBS7nzcaLTa8mplO1ejm44DI4EscDM\n"
     ]
    },
    {
     "name": "stderr",
     "output_type": "stream",
     "text": [
      "100%|██████████| 232666/232666 [30:06<00:00, 128.80it/s] \n"
     ]
    },
    {
     "ename": "TypeError",
     "evalue": "'float' object is not iterable",
     "output_type": "error",
     "traceback": [
      "\u001b[0;31m---------------------------------------------------------------------------\u001b[0m",
      "\u001b[0;31mTypeError\u001b[0m                                 Traceback (most recent call last)",
      "Cell \u001b[0;32mIn[29], line 4\u001b[0m\n\u001b[1;32m      2\u001b[0m \u001b[38;5;28;01mwith\u001b[39;00m concurrent\u001b[38;5;241m.\u001b[39mfutures\u001b[38;5;241m.\u001b[39mThreadPoolExecutor(max_workers\u001b[38;5;241m=\u001b[39m\u001b[38;5;241m16\u001b[39m) \u001b[38;5;28;01mas\u001b[39;00m executor:\n\u001b[1;32m      3\u001b[0m     results \u001b[38;5;241m=\u001b[39m \u001b[38;5;28mlist\u001b[39m(tqdm(executor\u001b[38;5;241m.\u001b[39mmap(market_cap, df[\u001b[38;5;124m'\u001b[39m\u001b[38;5;124mticker\u001b[39m\u001b[38;5;124m'\u001b[39m], df[\u001b[38;5;124m'\u001b[39m\u001b[38;5;124mdate\u001b[39m\u001b[38;5;124m'\u001b[39m]), total\u001b[38;5;241m=\u001b[39m\u001b[38;5;28mlen\u001b[39m(df)))\n\u001b[0;32m----> 4\u001b[0m df[\u001b[38;5;124m'\u001b[39m\u001b[38;5;124mmarket_cap\u001b[39m\u001b[38;5;124m'\u001b[39m], df[\u001b[38;5;124m'\u001b[39m\u001b[38;5;124mtype\u001b[39m\u001b[38;5;124m'\u001b[39m] \u001b[38;5;241m=\u001b[39m \u001b[38;5;28mzip\u001b[39m(\u001b[38;5;241m*\u001b[39mresults)\n\u001b[1;32m      5\u001b[0m df\n",
      "\u001b[0;31mTypeError\u001b[0m: 'float' object is not iterable"
     ]
    }
   ],
   "source": [
    "det_list = []\n",
    "with concurrent.futures.ThreadPoolExecutor(max_workers=16) as executor:\n",
    "    results = list(tqdm(executor.map(market_cap, df['ticker'], df['date']), total=len(df)))\n",
    "df['market_cap'], df['type'] = zip(*results)\n",
    "df"
   ]
  },
  {
   "cell_type": "code",
   "execution_count": 156,
   "id": "52afc563",
   "metadata": {},
   "outputs": [],
   "source": [
    "results_df = pd.DataFrame(results, columns=['market_cap', 'type'])\n",
    "df = pd.concat([df, results_df], axis=1)"
   ]
  },
  {
   "cell_type": "markdown",
   "id": "895e3f62",
   "metadata": {},
   "source": [
    "<h1>Get index prices % changes</h1>"
   ]
  },
  {
   "cell_type": "code",
   "execution_count": 124,
   "id": "848dc1cb",
   "metadata": {},
   "outputs": [
    {
     "data": {
      "text/plain": [
       "'2022-01-10'"
      ]
     },
     "execution_count": 124,
     "metadata": {},
     "output_type": "execute_result"
    }
   ],
   "source": [
    "def est_all(unix_ms_timestamp):\n",
    "    # Convert Unix timestamp in milliseconds to seconds\n",
    "    unix_seconds = unix_ms_timestamp / 1000.0\n",
    "    # Create a datetime object from the Unix timestamp\n",
    "    utc_time = datetime.utcfromtimestamp(unix_seconds)\n",
    "    # Define the UTC and EST timezones\n",
    "    utc_zone = pytz.utc\n",
    "    est_zone = pytz.timezone('US/Eastern')\n",
    "    # Localize the UTC datetime object to UTC timezone\n",
    "    utc_time = utc_zone.localize(utc_time)\n",
    "    # Convert the UTC time to EST\n",
    "    est_time = utc_time.astimezone(est_zone)\n",
    "    # Remove timezone info and return formatted date\n",
    "    est_time = est_time.replace(tzinfo=None)\n",
    "    return est_time.strftime('%Y-%m-%d')\n",
    "est_all(1641805920000)"
   ]
  },
  {
   "cell_type": "code",
   "execution_count": 157,
   "id": "2d476e41",
   "metadata": {},
   "outputs": [
    {
     "data": {
      "text/html": [
       "<div>\n",
       "<style scoped>\n",
       "    .dataframe tbody tr th:only-of-type {\n",
       "        vertical-align: middle;\n",
       "    }\n",
       "\n",
       "    .dataframe tbody tr th {\n",
       "        vertical-align: top;\n",
       "    }\n",
       "\n",
       "    .dataframe thead th {\n",
       "        text-align: right;\n",
       "    }\n",
       "</style>\n",
       "<table border=\"1\" class=\"dataframe\">\n",
       "  <thead>\n",
       "    <tr style=\"text-align: right;\">\n",
       "      <th></th>\n",
       "      <th>date</th>\n",
       "      <th>c-1</th>\n",
       "      <th>SPY_overnight</th>\n",
       "      <th>SPY_dailyc</th>\n",
       "    </tr>\n",
       "  </thead>\n",
       "  <tbody>\n",
       "    <tr>\n",
       "      <th>0</th>\n",
       "      <td>2020-12-31</td>\n",
       "      <td>NaN</td>\n",
       "      <td>0.003825</td>\n",
       "      <td>NaN</td>\n",
       "    </tr>\n",
       "    <tr>\n",
       "      <th>1</th>\n",
       "      <td>2021-01-04</td>\n",
       "      <td>373.88</td>\n",
       "      <td>-0.001871</td>\n",
       "      <td>-0.013614</td>\n",
       "    </tr>\n",
       "    <tr>\n",
       "      <th>2</th>\n",
       "      <td>2021-01-05</td>\n",
       "      <td>368.79</td>\n",
       "      <td>-0.004363</td>\n",
       "      <td>0.006887</td>\n",
       "    </tr>\n",
       "    <tr>\n",
       "      <th>3</th>\n",
       "      <td>2021-01-06</td>\n",
       "      <td>371.33</td>\n",
       "      <td>0.006826</td>\n",
       "      <td>0.005979</td>\n",
       "    </tr>\n",
       "    <tr>\n",
       "      <th>4</th>\n",
       "      <td>2021-01-07</td>\n",
       "      <td>373.55</td>\n",
       "      <td>0.003930</td>\n",
       "      <td>0.014857</td>\n",
       "    </tr>\n",
       "    <tr>\n",
       "      <th>...</th>\n",
       "      <td>...</td>\n",
       "      <td>...</td>\n",
       "      <td>...</td>\n",
       "      <td>...</td>\n",
       "    </tr>\n",
       "    <tr>\n",
       "      <th>937</th>\n",
       "      <td>2024-09-24</td>\n",
       "      <td>569.67</td>\n",
       "      <td>-0.000280</td>\n",
       "      <td>0.002861</td>\n",
       "    </tr>\n",
       "    <tr>\n",
       "      <th>938</th>\n",
       "      <td>2024-09-25</td>\n",
       "      <td>571.30</td>\n",
       "      <td>0.007614</td>\n",
       "      <td>-0.002205</td>\n",
       "    </tr>\n",
       "    <tr>\n",
       "      <th>939</th>\n",
       "      <td>2024-09-26</td>\n",
       "      <td>570.04</td>\n",
       "      <td>0.001905</td>\n",
       "      <td>0.003965</td>\n",
       "    </tr>\n",
       "    <tr>\n",
       "      <th>940</th>\n",
       "      <td>2024-09-27</td>\n",
       "      <td>572.30</td>\n",
       "      <td>-0.001837</td>\n",
       "      <td>-0.001450</td>\n",
       "    </tr>\n",
       "    <tr>\n",
       "      <th>941</th>\n",
       "      <td>2024-09-30</td>\n",
       "      <td>571.47</td>\n",
       "      <td>NaN</td>\n",
       "      <td>0.004007</td>\n",
       "    </tr>\n",
       "  </tbody>\n",
       "</table>\n",
       "<p>942 rows × 4 columns</p>\n",
       "</div>"
      ],
      "text/plain": [
       "           date     c-1  SPY_overnight  SPY_dailyc\n",
       "0    2020-12-31     NaN       0.003825         NaN\n",
       "1    2021-01-04  373.88      -0.001871   -0.013614\n",
       "2    2021-01-05  368.79      -0.004363    0.006887\n",
       "3    2021-01-06  371.33       0.006826    0.005979\n",
       "4    2021-01-07  373.55       0.003930    0.014857\n",
       "..          ...     ...            ...         ...\n",
       "937  2024-09-24  569.67      -0.000280    0.002861\n",
       "938  2024-09-25  571.30       0.007614   -0.002205\n",
       "939  2024-09-26  570.04       0.001905    0.003965\n",
       "940  2024-09-27  572.30      -0.001837   -0.001450\n",
       "941  2024-09-30  571.47            NaN    0.004007\n",
       "\n",
       "[942 rows x 4 columns]"
      ]
     },
     "execution_count": 157,
     "metadata": {},
     "output_type": "execute_result"
    }
   ],
   "source": [
    "def index_daily(ticker):\n",
    "    data = client.get_aggs(ticker,\n",
    "                            multiplier=1,\n",
    "                            timespan='day',\n",
    "                            adjusted='true',\n",
    "                            from_='2020-12-31',\n",
    "                            to='2024-09-30')\n",
    "    df = pd.DataFrame(data)\n",
    "    df['date'] = df['timestamp'].apply(est_all)\n",
    "    df['c-1'] = df['close'].shift(1)\n",
    "    df[f'{ticker}_overnight'] = (df['open'].shift(-1)/df['close'])-1\n",
    "    df[f'{ticker}_dailyc'] = (df['close']/df['close'].shift(1))-1\n",
    "    return df[['date','c-1',f'{ticker}_overnight',f'{ticker}_dailyc']]\n",
    "index_daily('SPY')"
   ]
  },
  {
   "cell_type": "code",
   "execution_count": 158,
   "id": "a99ea552",
   "metadata": {},
   "outputs": [],
   "source": [
    "day_dict = {}\n",
    "for ticker in ['SPY','VONE','IWM','VTHR','VTI']:\n",
    "    day_dict[ticker] = index_daily(ticker)"
   ]
  },
  {
   "cell_type": "code",
   "execution_count": 159,
   "id": "77a16c77",
   "metadata": {},
   "outputs": [
    {
     "data": {
      "text/plain": [
       "129.27"
      ]
     },
     "execution_count": 159,
     "metadata": {},
     "output_type": "execute_result"
    }
   ],
   "source": [
    "def index_minute(ticker,date):\n",
    "    data = client.get_aggs(ticker,\n",
    "                            multiplier=1,\n",
    "                            timespan='minute',\n",
    "                            adjusted='true',\n",
    "                            from_=unix(date,9,30),\n",
    "                            to=unix(date,15,58),\n",
    "                            limit=50000)\n",
    "    df = pd.DataFrame(data)\n",
    "    df['date'] = df['timestamp'].apply(est_all)\n",
    "    return df['close'].iloc[-1]\n",
    "index_minute('AAPL','2021-01-04')"
   ]
  },
  {
   "cell_type": "code",
   "execution_count": 160,
   "id": "833ad2f0",
   "metadata": {},
   "outputs": [
    {
     "name": "stderr",
     "output_type": "stream",
     "text": [
      "100%|██████████| 942/942 [00:16<00:00, 56.53it/s]\n",
      "100%|██████████| 942/942 [00:10<00:00, 91.52it/s] \n",
      "100%|██████████| 942/942 [00:15<00:00, 59.61it/s]\n",
      "100%|██████████| 942/942 [00:12<00:00, 73.97it/s] \n",
      "100%|██████████| 942/942 [00:15<00:00, 60.36it/s]\n"
     ]
    }
   ],
   "source": [
    "for ticker in ['SPY','VONE','IWM','VTHR','VTI']:\n",
    "    frame = day_dict[ticker]\n",
    "    with concurrent.futures.ThreadPoolExecutor() as executor:\n",
    "        list358 = list(tqdm(executor.map(index_minute, [ticker] * len(frame['date']),frame['date']), total=len(frame)))\n",
    "    frame['358c'] = list358\n",
    "    frame[f'{ticker}_dailya'] = (frame['358c']/frame['c-1'])-1"
   ]
  },
  {
   "cell_type": "code",
   "execution_count": 161,
   "id": "2240dc94",
   "metadata": {},
   "outputs": [],
   "source": [
    "for ticker in ['SPY','VONE','IWM','VTHR','VTI']:\n",
    "    frame = day_dict[ticker][[f'{ticker}_overnight',f'{ticker}_dailyc',f'{ticker}_dailya','date']]\n",
    "    merged_df = pd.merge(df, frame, on='date', how='left')\n",
    "    merged_df.rename(columns={f'{ticker}_overnight': f'{ticker}_ah',f'{ticker}_dailyc': f'{ticker}_pc_day',f'{ticker}_dailya': f'{ticker}_pc_timed'}, inplace=True)\n",
    "    df = merged_df"
   ]
  },
  {
   "cell_type": "code",
   "execution_count": 162,
   "id": "a3a81e60",
   "metadata": {},
   "outputs": [],
   "source": [
    "df.to_csv('dirty_main2.csv')"
   ]
  },
  {
   "cell_type": "code",
   "execution_count": null,
   "id": "205beb4e",
   "metadata": {},
   "outputs": [],
   "source": []
  }
 ],
 "metadata": {
  "kernelspec": {
   "display_name": "base",
   "language": "python",
   "name": "python3"
  },
  "language_info": {
   "codemirror_mode": {
    "name": "ipython",
    "version": 3
   },
   "file_extension": ".py",
   "mimetype": "text/x-python",
   "name": "python",
   "nbconvert_exporter": "python",
   "pygments_lexer": "ipython3",
   "version": "3.11.4"
  }
 },
 "nbformat": 4,
 "nbformat_minor": 5
}
